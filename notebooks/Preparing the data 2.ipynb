{
 "cells": [
  {
   "cell_type": "code",
   "execution_count": 11,
   "metadata": {},
   "outputs": [],
   "source": [
    "import pandas as pd\n",
    "import numpy as np\n",
    "\n",
    "from datetime import datetime\n",
    "\n",
    "%matplotlib inline\n",
    "pd.set_option('display.max_rows', 500)"
   ]
  },
  {
   "cell_type": "markdown",
   "metadata": {},
   "source": [
    "# Data Preparation"
   ]
  },
  {
   "cell_type": "markdown",
   "metadata": {},
   "source": [
    "## Johns Hopkins GITHUB csv data\n"
   ]
  },
  {
   "cell_type": "code",
   "execution_count": 12,
   "metadata": {},
   "outputs": [],
   "source": [
    "data_path='../data/raw/COVID-19/csse_covid_19_data/csse_covid_19_time_series/time_series_covid19_confirmed_global.csv'\n",
    "pd_raw=pd.read_csv(data_path)"
   ]
  },
  {
   "cell_type": "code",
   "execution_count": 13,
   "metadata": {
    "scrolled": true
   },
   "outputs": [
    {
     "data": {
      "text/html": [
       "<div>\n",
       "<style scoped>\n",
       "    .dataframe tbody tr th:only-of-type {\n",
       "        vertical-align: middle;\n",
       "    }\n",
       "\n",
       "    .dataframe tbody tr th {\n",
       "        vertical-align: top;\n",
       "    }\n",
       "\n",
       "    .dataframe thead th {\n",
       "        text-align: right;\n",
       "    }\n",
       "</style>\n",
       "<table border=\"1\" class=\"dataframe\">\n",
       "  <thead>\n",
       "    <tr style=\"text-align: right;\">\n",
       "      <th></th>\n",
       "      <th>Province/State</th>\n",
       "      <th>Country/Region</th>\n",
       "      <th>Lat</th>\n",
       "      <th>Long</th>\n",
       "      <th>1/22/20</th>\n",
       "      <th>1/23/20</th>\n",
       "      <th>1/24/20</th>\n",
       "      <th>1/25/20</th>\n",
       "      <th>1/26/20</th>\n",
       "      <th>1/27/20</th>\n",
       "      <th>...</th>\n",
       "      <th>8/19/20</th>\n",
       "      <th>8/20/20</th>\n",
       "      <th>8/21/20</th>\n",
       "      <th>8/22/20</th>\n",
       "      <th>8/23/20</th>\n",
       "      <th>8/24/20</th>\n",
       "      <th>8/25/20</th>\n",
       "      <th>8/26/20</th>\n",
       "      <th>8/27/20</th>\n",
       "      <th>8/28/20</th>\n",
       "    </tr>\n",
       "  </thead>\n",
       "  <tbody>\n",
       "    <tr>\n",
       "      <td>0</td>\n",
       "      <td>NaN</td>\n",
       "      <td>Afghanistan</td>\n",
       "      <td>33.93911</td>\n",
       "      <td>67.709953</td>\n",
       "      <td>0</td>\n",
       "      <td>0</td>\n",
       "      <td>0</td>\n",
       "      <td>0</td>\n",
       "      <td>0</td>\n",
       "      <td>0</td>\n",
       "      <td>...</td>\n",
       "      <td>37599</td>\n",
       "      <td>37856</td>\n",
       "      <td>37894</td>\n",
       "      <td>37953</td>\n",
       "      <td>37999</td>\n",
       "      <td>38054</td>\n",
       "      <td>38070</td>\n",
       "      <td>38113</td>\n",
       "      <td>38129</td>\n",
       "      <td>38140</td>\n",
       "    </tr>\n",
       "    <tr>\n",
       "      <td>1</td>\n",
       "      <td>NaN</td>\n",
       "      <td>Albania</td>\n",
       "      <td>41.15330</td>\n",
       "      <td>20.168300</td>\n",
       "      <td>0</td>\n",
       "      <td>0</td>\n",
       "      <td>0</td>\n",
       "      <td>0</td>\n",
       "      <td>0</td>\n",
       "      <td>0</td>\n",
       "      <td>...</td>\n",
       "      <td>7812</td>\n",
       "      <td>7967</td>\n",
       "      <td>8119</td>\n",
       "      <td>8275</td>\n",
       "      <td>8427</td>\n",
       "      <td>8605</td>\n",
       "      <td>8759</td>\n",
       "      <td>8927</td>\n",
       "      <td>9083</td>\n",
       "      <td>9195</td>\n",
       "    </tr>\n",
       "    <tr>\n",
       "      <td>2</td>\n",
       "      <td>NaN</td>\n",
       "      <td>Algeria</td>\n",
       "      <td>28.03390</td>\n",
       "      <td>1.659600</td>\n",
       "      <td>0</td>\n",
       "      <td>0</td>\n",
       "      <td>0</td>\n",
       "      <td>0</td>\n",
       "      <td>0</td>\n",
       "      <td>0</td>\n",
       "      <td>...</td>\n",
       "      <td>39847</td>\n",
       "      <td>40258</td>\n",
       "      <td>40667</td>\n",
       "      <td>41068</td>\n",
       "      <td>41460</td>\n",
       "      <td>41858</td>\n",
       "      <td>42228</td>\n",
       "      <td>42619</td>\n",
       "      <td>43016</td>\n",
       "      <td>43403</td>\n",
       "    </tr>\n",
       "    <tr>\n",
       "      <td>3</td>\n",
       "      <td>NaN</td>\n",
       "      <td>Andorra</td>\n",
       "      <td>42.50630</td>\n",
       "      <td>1.521800</td>\n",
       "      <td>0</td>\n",
       "      <td>0</td>\n",
       "      <td>0</td>\n",
       "      <td>0</td>\n",
       "      <td>0</td>\n",
       "      <td>0</td>\n",
       "      <td>...</td>\n",
       "      <td>1024</td>\n",
       "      <td>1024</td>\n",
       "      <td>1045</td>\n",
       "      <td>1045</td>\n",
       "      <td>1045</td>\n",
       "      <td>1060</td>\n",
       "      <td>1060</td>\n",
       "      <td>1098</td>\n",
       "      <td>1098</td>\n",
       "      <td>1124</td>\n",
       "    </tr>\n",
       "    <tr>\n",
       "      <td>4</td>\n",
       "      <td>NaN</td>\n",
       "      <td>Angola</td>\n",
       "      <td>-11.20270</td>\n",
       "      <td>17.873900</td>\n",
       "      <td>0</td>\n",
       "      <td>0</td>\n",
       "      <td>0</td>\n",
       "      <td>0</td>\n",
       "      <td>0</td>\n",
       "      <td>0</td>\n",
       "      <td>...</td>\n",
       "      <td>2015</td>\n",
       "      <td>2044</td>\n",
       "      <td>2068</td>\n",
       "      <td>2134</td>\n",
       "      <td>2171</td>\n",
       "      <td>2222</td>\n",
       "      <td>2283</td>\n",
       "      <td>2332</td>\n",
       "      <td>2415</td>\n",
       "      <td>2471</td>\n",
       "    </tr>\n",
       "  </tbody>\n",
       "</table>\n",
       "<p>5 rows × 224 columns</p>\n",
       "</div>"
      ],
      "text/plain": [
       "  Province/State Country/Region       Lat       Long  1/22/20  1/23/20  \\\n",
       "0            NaN    Afghanistan  33.93911  67.709953        0        0   \n",
       "1            NaN        Albania  41.15330  20.168300        0        0   \n",
       "2            NaN        Algeria  28.03390   1.659600        0        0   \n",
       "3            NaN        Andorra  42.50630   1.521800        0        0   \n",
       "4            NaN         Angola -11.20270  17.873900        0        0   \n",
       "\n",
       "   1/24/20  1/25/20  1/26/20  1/27/20  ...  8/19/20  8/20/20  8/21/20  \\\n",
       "0        0        0        0        0  ...    37599    37856    37894   \n",
       "1        0        0        0        0  ...     7812     7967     8119   \n",
       "2        0        0        0        0  ...    39847    40258    40667   \n",
       "3        0        0        0        0  ...     1024     1024     1045   \n",
       "4        0        0        0        0  ...     2015     2044     2068   \n",
       "\n",
       "   8/22/20  8/23/20  8/24/20  8/25/20  8/26/20  8/27/20  8/28/20  \n",
       "0    37953    37999    38054    38070    38113    38129    38140  \n",
       "1     8275     8427     8605     8759     8927     9083     9195  \n",
       "2    41068    41460    41858    42228    42619    43016    43403  \n",
       "3     1045     1045     1060     1060     1098     1098     1124  \n",
       "4     2134     2171     2222     2283     2332     2415     2471  \n",
       "\n",
       "[5 rows x 224 columns]"
      ]
     },
     "execution_count": 13,
     "metadata": {},
     "output_type": "execute_result"
    }
   ],
   "source": [
    "pd_raw.head()"
   ]
  },
  {
   "cell_type": "code",
   "execution_count": 14,
   "metadata": {},
   "outputs": [],
   "source": [
    "time_idx=pd_raw.columns[5:]"
   ]
  },
  {
   "cell_type": "code",
   "execution_count": 15,
   "metadata": {},
   "outputs": [
    {
     "data": {
      "text/html": [
       "<div>\n",
       "<style scoped>\n",
       "    .dataframe tbody tr th:only-of-type {\n",
       "        vertical-align: middle;\n",
       "    }\n",
       "\n",
       "    .dataframe tbody tr th {\n",
       "        vertical-align: top;\n",
       "    }\n",
       "\n",
       "    .dataframe thead th {\n",
       "        text-align: right;\n",
       "    }\n",
       "</style>\n",
       "<table border=\"1\" class=\"dataframe\">\n",
       "  <thead>\n",
       "    <tr style=\"text-align: right;\">\n",
       "      <th></th>\n",
       "      <th>date</th>\n",
       "    </tr>\n",
       "  </thead>\n",
       "  <tbody>\n",
       "    <tr>\n",
       "      <td>0</td>\n",
       "      <td>1/23/20</td>\n",
       "    </tr>\n",
       "    <tr>\n",
       "      <td>1</td>\n",
       "      <td>1/24/20</td>\n",
       "    </tr>\n",
       "    <tr>\n",
       "      <td>2</td>\n",
       "      <td>1/25/20</td>\n",
       "    </tr>\n",
       "    <tr>\n",
       "      <td>3</td>\n",
       "      <td>1/26/20</td>\n",
       "    </tr>\n",
       "    <tr>\n",
       "      <td>4</td>\n",
       "      <td>1/27/20</td>\n",
       "    </tr>\n",
       "  </tbody>\n",
       "</table>\n",
       "</div>"
      ],
      "text/plain": [
       "      date\n",
       "0  1/23/20\n",
       "1  1/24/20\n",
       "2  1/25/20\n",
       "3  1/26/20\n",
       "4  1/27/20"
      ]
     },
     "execution_count": 15,
     "metadata": {},
     "output_type": "execute_result"
    }
   ],
   "source": [
    "df_plot = pd.DataFrame({\n",
    "    'date':time_idx})\n",
    "df_plot.head()"
   ]
  },
  {
   "cell_type": "code",
   "execution_count": 16,
   "metadata": {},
   "outputs": [
    {
     "data": {
      "text/plain": [
       "0                           Afghanistan\n",
       "1                               Albania\n",
       "2                               Algeria\n",
       "3                               Andorra\n",
       "4                                Angola\n",
       "5                   Antigua and Barbuda\n",
       "6                             Argentina\n",
       "7                               Armenia\n",
       "8                             Australia\n",
       "9                             Australia\n",
       "10                            Australia\n",
       "11                            Australia\n",
       "12                            Australia\n",
       "13                            Australia\n",
       "14                            Australia\n",
       "15                            Australia\n",
       "16                              Austria\n",
       "17                           Azerbaijan\n",
       "18                              Bahamas\n",
       "19                              Bahrain\n",
       "20                           Bangladesh\n",
       "21                             Barbados\n",
       "22                              Belarus\n",
       "23                              Belgium\n",
       "24                               Belize\n",
       "25                                Benin\n",
       "26                               Bhutan\n",
       "27                              Bolivia\n",
       "28               Bosnia and Herzegovina\n",
       "29                             Botswana\n",
       "30                               Brazil\n",
       "31                               Brunei\n",
       "32                             Bulgaria\n",
       "33                         Burkina Faso\n",
       "34                                Burma\n",
       "35                              Burundi\n",
       "36                           Cabo Verde\n",
       "37                             Cambodia\n",
       "38                             Cameroon\n",
       "39                               Canada\n",
       "40                               Canada\n",
       "41                               Canada\n",
       "42                               Canada\n",
       "43                               Canada\n",
       "44                               Canada\n",
       "45                               Canada\n",
       "46                               Canada\n",
       "47                               Canada\n",
       "48                               Canada\n",
       "49                               Canada\n",
       "50                               Canada\n",
       "51                               Canada\n",
       "52                               Canada\n",
       "53             Central African Republic\n",
       "54                                 Chad\n",
       "55                                Chile\n",
       "56                                China\n",
       "57                                China\n",
       "58                                China\n",
       "59                                China\n",
       "60                                China\n",
       "61                                China\n",
       "62                                China\n",
       "63                                China\n",
       "64                                China\n",
       "65                                China\n",
       "66                                China\n",
       "67                                China\n",
       "68                                China\n",
       "69                                China\n",
       "70                                China\n",
       "71                                China\n",
       "72                                China\n",
       "73                                China\n",
       "74                                China\n",
       "75                                China\n",
       "76                                China\n",
       "77                                China\n",
       "78                                China\n",
       "79                                China\n",
       "80                                China\n",
       "81                                China\n",
       "82                                China\n",
       "83                                China\n",
       "84                                China\n",
       "85                                China\n",
       "86                                China\n",
       "87                                China\n",
       "88                                China\n",
       "89                             Colombia\n",
       "90                              Comoros\n",
       "91                  Congo (Brazzaville)\n",
       "92                     Congo (Kinshasa)\n",
       "93                           Costa Rica\n",
       "94                        Cote d'Ivoire\n",
       "95                              Croatia\n",
       "96                                 Cuba\n",
       "97                               Cyprus\n",
       "98                              Czechia\n",
       "99                              Denmark\n",
       "100                             Denmark\n",
       "101                             Denmark\n",
       "102                    Diamond Princess\n",
       "103                            Djibouti\n",
       "104                            Dominica\n",
       "105                  Dominican Republic\n",
       "106                             Ecuador\n",
       "107                               Egypt\n",
       "108                         El Salvador\n",
       "109                   Equatorial Guinea\n",
       "110                             Eritrea\n",
       "111                             Estonia\n",
       "112                            Eswatini\n",
       "113                            Ethiopia\n",
       "114                                Fiji\n",
       "115                             Finland\n",
       "116                              France\n",
       "117                              France\n",
       "118                              France\n",
       "119                              France\n",
       "120                              France\n",
       "121                              France\n",
       "122                              France\n",
       "123                              France\n",
       "124                              France\n",
       "125                              France\n",
       "126                              France\n",
       "127                               Gabon\n",
       "128                              Gambia\n",
       "129                             Georgia\n",
       "130                             Germany\n",
       "131                               Ghana\n",
       "132                              Greece\n",
       "133                             Grenada\n",
       "134                           Guatemala\n",
       "135                              Guinea\n",
       "136                       Guinea-Bissau\n",
       "137                              Guyana\n",
       "138                               Haiti\n",
       "139                            Holy See\n",
       "140                            Honduras\n",
       "141                             Hungary\n",
       "142                             Iceland\n",
       "143                               India\n",
       "144                           Indonesia\n",
       "145                                Iran\n",
       "146                                Iraq\n",
       "147                             Ireland\n",
       "148                              Israel\n",
       "149                               Italy\n",
       "150                             Jamaica\n",
       "151                               Japan\n",
       "152                              Jordan\n",
       "153                          Kazakhstan\n",
       "154                               Kenya\n",
       "155                        Korea, South\n",
       "156                              Kosovo\n",
       "157                              Kuwait\n",
       "158                          Kyrgyzstan\n",
       "159                                Laos\n",
       "160                              Latvia\n",
       "161                             Lebanon\n",
       "162                             Lesotho\n",
       "163                             Liberia\n",
       "164                               Libya\n",
       "165                       Liechtenstein\n",
       "166                           Lithuania\n",
       "167                          Luxembourg\n",
       "168                          MS Zaandam\n",
       "169                          Madagascar\n",
       "170                              Malawi\n",
       "171                            Malaysia\n",
       "172                            Maldives\n",
       "173                                Mali\n",
       "174                               Malta\n",
       "175                          Mauritania\n",
       "176                           Mauritius\n",
       "177                              Mexico\n",
       "178                             Moldova\n",
       "179                              Monaco\n",
       "180                            Mongolia\n",
       "181                          Montenegro\n",
       "182                             Morocco\n",
       "183                          Mozambique\n",
       "184                             Namibia\n",
       "185                               Nepal\n",
       "186                         Netherlands\n",
       "187                         Netherlands\n",
       "188                         Netherlands\n",
       "189                         Netherlands\n",
       "190                         Netherlands\n",
       "191                         New Zealand\n",
       "192                           Nicaragua\n",
       "193                               Niger\n",
       "194                             Nigeria\n",
       "195                     North Macedonia\n",
       "196                              Norway\n",
       "197                                Oman\n",
       "198                            Pakistan\n",
       "199                              Panama\n",
       "200                    Papua New Guinea\n",
       "201                            Paraguay\n",
       "202                                Peru\n",
       "203                         Philippines\n",
       "204                              Poland\n",
       "205                            Portugal\n",
       "206                               Qatar\n",
       "207                             Romania\n",
       "208                              Russia\n",
       "209                              Rwanda\n",
       "210               Saint Kitts and Nevis\n",
       "211                         Saint Lucia\n",
       "212    Saint Vincent and the Grenadines\n",
       "213                          San Marino\n",
       "214               Sao Tome and Principe\n",
       "215                        Saudi Arabia\n",
       "216                             Senegal\n",
       "217                              Serbia\n",
       "218                          Seychelles\n",
       "219                        Sierra Leone\n",
       "220                           Singapore\n",
       "221                            Slovakia\n",
       "222                            Slovenia\n",
       "223                             Somalia\n",
       "224                        South Africa\n",
       "225                         South Sudan\n",
       "226                               Spain\n",
       "227                           Sri Lanka\n",
       "228                               Sudan\n",
       "229                            Suriname\n",
       "230                              Sweden\n",
       "231                         Switzerland\n",
       "232                               Syria\n",
       "233                             Taiwan*\n",
       "234                          Tajikistan\n",
       "235                            Tanzania\n",
       "236                            Thailand\n",
       "237                         Timor-Leste\n",
       "238                                Togo\n",
       "239                 Trinidad and Tobago\n",
       "240                             Tunisia\n",
       "241                              Turkey\n",
       "242                                  US\n",
       "243                              Uganda\n",
       "244                             Ukraine\n",
       "245                United Arab Emirates\n",
       "246                      United Kingdom\n",
       "247                      United Kingdom\n",
       "248                      United Kingdom\n",
       "249                      United Kingdom\n",
       "250                      United Kingdom\n",
       "251                      United Kingdom\n",
       "252                      United Kingdom\n",
       "253                      United Kingdom\n",
       "254                      United Kingdom\n",
       "255                      United Kingdom\n",
       "256                      United Kingdom\n",
       "257                             Uruguay\n",
       "258                          Uzbekistan\n",
       "259                           Venezuela\n",
       "260                             Vietnam\n",
       "261                  West Bank and Gaza\n",
       "262                      Western Sahara\n",
       "263                               Yemen\n",
       "264                              Zambia\n",
       "265                            Zimbabwe\n",
       "Name: Country/Region, dtype: object"
      ]
     },
     "execution_count": 16,
     "metadata": {},
     "output_type": "execute_result"
    }
   ],
   "source": [
    "pd_raw['Country/Region']"
   ]
  },
  {
   "cell_type": "code",
   "execution_count": 17,
   "metadata": {},
   "outputs": [
    {
     "data": {
      "text/plain": [
       "1/22/20    0\n",
       "1/23/20    0\n",
       "1/24/20    0\n",
       "1/25/20    0\n",
       "dtype: int64"
      ]
     },
     "execution_count": 17,
     "metadata": {},
     "output_type": "execute_result"
    }
   ],
   "source": [
    "pd_raw[pd_raw['Country/Region']=='India'].iloc[:,4::].sum(axis=0)[0:4]"
   ]
  },
  {
   "cell_type": "code",
   "execution_count": 18,
   "metadata": {},
   "outputs": [],
   "source": [
    "country_list=['Italy',\n",
    "              'US',\n",
    "              'Spain',\n",
    "              'Germany',\n",
    "              'Korea, South',\n",
    "             ] "
   ]
  },
  {
   "cell_type": "code",
   "execution_count": null,
   "metadata": {},
   "outputs": [],
   "source": [
    "%matplotlib inline\n",
    "df_plot.set_index('date').plot()"
   ]
  },
  {
   "cell_type": "markdown",
   "metadata": {},
   "source": [
    "## Data Type Date"
   ]
  },
  {
   "cell_type": "code",
   "execution_count": null,
   "metadata": {},
   "outputs": [],
   "source": [
    "df_plot.head()"
   ]
  },
  {
   "cell_type": "code",
   "execution_count": null,
   "metadata": {},
   "outputs": [],
   "source": [
    "time_idx=[datetime.strptime( each,\"%m/%d/%y\") for each in df_plot.date] # convert to datetime\n",
    "time_str=[each.strftime('%Y-%m-%d') for each in time_idx] # convert back to date ISO norm (str)"
   ]
  },
  {
   "cell_type": "code",
   "execution_count": null,
   "metadata": {},
   "outputs": [],
   "source": [
    "df_plot['date']=time_idx\n",
    "type(df_plot['date'][0])"
   ]
  },
  {
   "cell_type": "code",
   "execution_count": null,
   "metadata": {},
   "outputs": [],
   "source": [
    "df_plot.head()"
   ]
  },
  {
   "cell_type": "code",
   "execution_count": null,
   "metadata": {},
   "outputs": [],
   "source": [
    "df_plot.to_csv('../data/processed/COVID_small_flat_table.csv',sep=';',index=False)"
   ]
  },
  {
   "cell_type": "code",
   "execution_count": null,
   "metadata": {},
   "outputs": [],
   "source": []
  },
  {
   "cell_type": "markdown",
   "metadata": {},
   "source": [
    "## Relational data model - defining a primary key\n"
   ]
  },
  {
   "cell_type": "code",
   "execution_count": null,
   "metadata": {},
   "outputs": [],
   "source": [
    "data_path='../data/raw/COVID-19/csse_covid_19_data/csse_covid_19_time_series/time_series_covid19_confirmed_global.csv'\n",
    "pd_raw=pd.read_csv(data_path)\n",
    "pd_raw.head()"
   ]
  },
  {
   "cell_type": "code",
   "execution_count": null,
   "metadata": {},
   "outputs": [],
   "source": [
    "pd_data_base=pd_raw.rename(columns={'Country/Region':'country',\n",
    "                      'Province/State':'state'})\n",
    "pd_data_base['state']=pd_data_base['state'].fillna('no')  #ensure a sring, important for indexing"
   ]
  },
  {
   "cell_type": "code",
   "execution_count": null,
   "metadata": {},
   "outputs": [],
   "source": [
    "pd_data_base=pd_data_base.drop(['Lat','Long'],axis=1)\n",
    "pd_data_base.head()"
   ]
  },
  {
   "cell_type": "code",
   "execution_count": null,
   "metadata": {},
   "outputs": [],
   "source": [
    "pd_relational_model=pd_data_base.set_index(['state','country']) \\\n",
    "                                .T                              \\\n",
    "                                .stack(level=[0,1])             \\\n",
    "                                .reset_index()                  \\\n",
    "                                .rename(columns={'level_0':'date',\n",
    "                                                   0:'confirmed'},\n",
    "                                                  )\n",
    "pd_relational_model.head()\n"
   ]
  },
  {
   "cell_type": "code",
   "execution_count": null,
   "metadata": {},
   "outputs": [],
   "source": [
    "pd_relational_model.dtypes"
   ]
  },
  {
   "cell_type": "code",
   "execution_count": null,
   "metadata": {},
   "outputs": [],
   "source": [
    "pd_relational_model['date']=pd_relational_model.date.astype('datetime64[ns]')"
   ]
  },
  {
   "cell_type": "code",
   "execution_count": null,
   "metadata": {},
   "outputs": [],
   "source": [
    "pd_relational_model.dtypes"
   ]
  },
  {
   "cell_type": "code",
   "execution_count": null,
   "metadata": {},
   "outputs": [],
   "source": [
    "pd_relational_model.confirmed=pd_relational_model.confirmed.astype(int)\n",
    "\n",
    "pd_relational_model.to_csv('../data/processed/COVID_relational_confirmed.csv',sep=';',index=False)"
   ]
  },
  {
   "cell_type": "code",
   "execution_count": null,
   "metadata": {},
   "outputs": [],
   "source": [
    "print(pd_relational_model[pd_relational_model['country']=='US'].tail())"
   ]
  },
  {
   "cell_type": "code",
   "execution_count": null,
   "metadata": {},
   "outputs": [],
   "source": [
    "data_path='../data/raw/COVID-19/csse_covid_19_data/csse_covid_19_time_series/time_series_covid19_confirmed_US.csv'\n",
    "pd_raw_US=pd.read_csv(data_path)\n",
    "pd_raw_US.head()\n",
    "\n"
   ]
  },
  {
   "cell_type": "code",
   "execution_count": null,
   "metadata": {},
   "outputs": [],
   "source": [
    "pd_raw_US=pd_raw_US.drop(['UID', 'iso2', 'iso3', 'code3', 'Country_Region','FIPS', 'Admin2',  'Lat', 'Long_', 'Combined_Key'],axis=1)\n",
    "pd_data_base_US=pd_raw_US.rename(columns={'Province_State':'state'}).copy()\n"
   ]
  },
  {
   "cell_type": "code",
   "execution_count": null,
   "metadata": {},
   "outputs": [],
   "source": [
    "pd_relational_model_US=pd_data_base_US.set_index(['state']) \\\n",
    "                                .T                              \\\n",
    "                                .stack()             \\\n",
    "                                .reset_index()                  \\\n",
    "                                .rename(columns={'level_0':'date',\n",
    "                                                   0:'confirmed'},\n",
    "                                                  )\n",
    "pd_relational_model_US['country']='US'\n",
    "pd_relational_model_US['date']=[datetime.strptime( each,\"%m/%d/%y\") for each in pd_relational_model_US.date] # convert to datetime\n",
    "pd_relational_model_US.head()"
   ]
  },
  {
   "cell_type": "code",
   "execution_count": null,
   "metadata": {},
   "outputs": [],
   "source": [
    "pd_relational_model_all=pd_relational_model[pd_relational_model['country']!='US'].reset_index(drop=True)"
   ]
  },
  {
   "cell_type": "code",
   "execution_count": null,
   "metadata": {},
   "outputs": [],
   "source": [
    "pd_relational_model_all=pd.concat([pd_relational_model_all,pd_relational_model_US],ignore_index=True)"
   ]
  },
  {
   "cell_type": "code",
   "execution_count": null,
   "metadata": {},
   "outputs": [],
   "source": [
    "pd_relational_model_all.to_csv('../data/processed/20200424_COVID_relational_confirmed.csv',sep=';',index=False)"
   ]
  },
  {
   "cell_type": "code",
   "execution_count": null,
   "metadata": {},
   "outputs": [],
   "source": [
    "print(pd_relational_model_all[pd_relational_model_all['country']=='US'])"
   ]
  },
  {
   "cell_type": "markdown",
   "metadata": {},
   "source": [
    "### cross check on full sum US data"
   ]
  },
  {
   "cell_type": "code",
   "execution_count": null,
   "metadata": {},
   "outputs": [],
   "source": [
    "check_US=pd_relational_model_all[pd_relational_model_all['country']=='US']"
   ]
  },
  {
   "cell_type": "code",
   "execution_count": null,
   "metadata": {},
   "outputs": [],
   "source": [
    "\n",
    "check_US[['date','country','confirmed']].groupby(['date','country']).sum()"
   ]
  },
  {
   "cell_type": "code",
   "execution_count": null,
   "metadata": {},
   "outputs": [],
   "source": []
  },
  {
   "cell_type": "code",
   "execution_count": null,
   "metadata": {},
   "outputs": [],
   "source": []
  }
 ],
 "metadata": {
  "kernelspec": {
   "display_name": "Python 3",
   "language": "python",
   "name": "python3"
  },
  "language_info": {
   "codemirror_mode": {
    "name": "ipython",
    "version": 3
   },
   "file_extension": ".py",
   "mimetype": "text/x-python",
   "name": "python",
   "nbconvert_exporter": "python",
   "pygments_lexer": "ipython3",
   "version": "3.7.4"
  }
 },
 "nbformat": 4,
 "nbformat_minor": 2
}
