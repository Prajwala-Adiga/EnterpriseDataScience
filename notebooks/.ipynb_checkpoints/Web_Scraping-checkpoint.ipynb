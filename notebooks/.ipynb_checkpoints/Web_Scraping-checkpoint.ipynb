{
 "cells": [
  {
   "cell_type": "code",
   "execution_count": 25,
   "metadata": {},
   "outputs": [],
   "source": [
    "import requests\n",
    "import pandas as pd\n"
   ]
  },
  {
   "cell_type": "code",
   "execution_count": 26,
   "metadata": {},
   "outputs": [],
   "source": [
    "from bs4 import BeautifulSoup"
   ]
  },
  {
   "cell_type": "code",
   "execution_count": 27,
   "metadata": {},
   "outputs": [],
   "source": [
    "page = requests.get(\"https://www.rki.de/DE/Content/InfAZ/N/Neuartiges_Coronavirus/Fallzahlen.html\")"
   ]
  },
  {
   "cell_type": "code",
   "execution_count": 28,
   "metadata": {},
   "outputs": [],
   "source": [
    "soup = BeautifulSoup(page.content, 'html.parser')"
   ]
  },
  {
   "cell_type": "code",
   "execution_count": 29,
   "metadata": {},
   "outputs": [
    {
     "data": {
      "text/plain": [
       "'\\n\\n\\n\\n\\nRKI  -  Coronavirus SARS-CoV-2 - COVID-19: Fallzahlen in Deutschland und weltweit\\n\\n\\n\\n\\n\\n\\n\\n\\n\\n\\n\\n\\n\\n\\n\\n\\n\\n\\n\\n\\n\\n\\n\\n\\n\\n\\n\\n\\n\\n\\n\\n\\n\\n\\n//<![CDATA[\\n      // i18n\\n        var PRINT_PAGE_TEXT = \\'Seite drucken\\';\\n        var PRINT_TOOLTIP = \\'Artikel drucken (öffnet Dialog)\\';\\n        var SCALE_IMG = \\'Schriftgröße\\';\\n        var SCALE_IMG_LARGE = \\'Schriftgröße vergrößern\\';\\n        var SCALE_IMG_NORMAL = \\'Schriftgröße verkleinern\\';\\n        var SHOW_MORE = \\'mehr anzeigen\\';\\nwindow.LABEL_MOREDETAILS = \\'mehr anzeigen\\';\\nwindow.LABEL_LESSDETAILS = \\'weniger anzeigen\\'; \\n      //]]>\\n    \\n\\n\\n\\n\\n\\nNavigation und Service\\nSpringe direkt zu:\\n\\nInhalt\\nHauptmenu\\nSuche\\n\\n\\n\\n\\n\\n\\n\\nServicemenü\\nKon\\xadtaktIn\\xadhaltHil\\xadfeIm\\xadpres\\xads\\xadumDa\\xadten\\xadschut\\xadz\\xader\\xadklä\\xadrungRSSEnglish\\n\\n\\n\\n\\nGebärdensprache\\n\\n\\nLeichte Sprache\\n\\n\\n\\n\\nSuche\\n\\n\\n\\n\\n\\n\\n\\n\\n\\n\\n\\n\\n\\n\\n\\n\\n\\nKontakt\\nNavigation\\n\\n\\n\\nZielgruppeneinstiege\\n\\n\\n\\n\\nInfektionskrankheiten A-Z\\n\\n\\n\\nA\\nB\\nC\\nD\\nE\\nF\\nG\\nH\\nI\\nJ\\nK\\nL\\nM\\nN\\nO\\nP\\nQ\\nR\\nS\\nT\\nU\\nV\\nW\\nX\\nY\\nZ\\nalle\\n\\n\\n\\n\\n\\n\\n\\n\\nGesundheit A-Z\\n\\n\\n\\nA\\nB\\nC\\nD\\nE\\nF\\nG\\nH\\nI\\nJ\\nK\\nL\\nM\\nN\\nO\\nP\\nQ\\nR\\nS\\nT\\nU\\nV\\nW\\nX\\nY\\nZ\\nalle\\n\\n\\n\\n\\n\\n\\n\\nNavigation\\n\\nIn\\xadsti\\xadtut\\nGe\\xadsund\\xadheits\\xadmo\\xadni\\xadto\\xadring\\nIn\\xadfek\\xadti\\xadons\\xadschutz\\nForschung\\nKom\\xadmis\\xadsio\\xadnen\\nSer\\xadvice\\n\\n\\n\\n\\n\\n\\nZielgruppeneinstiege\\n\\n\\n\\n\\nIn\\xadsti\\xadtut\\n\\n\\n\\n\\nDer Hauptsitz des Robert Koch-Instituts (RKI) in Berlin.\\nWeiter lesen\\n\\n\\n\\nInstitut\\nLeitbild\\n\\nPublic Health\\n\\nLeitung des Instituts\\n\\nOrganisation und Aufgaben\\n\\nNationale Referenzzentren\\n\\nWHO-Kooperationszentren\\n\\nWissenschaftlicher Beirat\\n\\n\\n\\nInternationales\\n\\nMuseum und Kunst\\n\\nAusbau und Zukunft\\n\\nGeschichte\\n\\nGesetzliche Grundlagen\\n\\nMitteilungen zum RKI\\n\\nKorruptionsvorsorge\\n\\nTag des Gesundheitsamtes\\n\\n\\n\\nWissenswertes aus dem Bereich\\nInstitutsbroschüre \"Gesundheit schützen, Risiken erforschen\"Organigramm des RKIMitteilungen zum Institut \\n\\n\\n\\n\\n\\nGe\\xadsund\\xadheits\\xadmo\\xadni\\xadto\\xadring\\n\\n\\n\\n\\nDas RKI erhebt im Rahmen seines Gesundheitsmonitorings regelmäßig Gesundheitsdaten der Bevölkerung.\\nWeiter lesen\\n\\n\\n\\nGesundheitsmonitoring\\nJournal of Health Monitoring\\n\\nDiabetes mellitus\\n\\nKinder- und Jugendgesundheit\\n\\nPsychische Gesundheit\\n\\nSozialer Status\\n\\nÜbergewicht und Adipositas\\n\\n\\n\\nAlle Themenschwerpunkte\\n\\nGesundheitsberichterstattung\\n\\nKrebsregisterdaten\\n\\nStudien und Surveillance\\n\\nSurveydaten nutzen\\n\\nZahl des Monats\\n\\n\\n\\nWissenswertes aus dem Bereich\\nGesundheit in Deutschland – die wichtigsten EntwicklungenNutzung von SurveydatenBericht „Gesundheit in Deutschland“KiGGS Welle 1: Faktenblätter\\n\\n\\n\\n\\n\\nIn\\xadfek\\xadti\\xadons\\xadschutz\\n\\n\\n\\n\\nHIV-1 - Human immunodeficiency virus 1 (Retroviren) Reife Virionen (rote Hülle) sammeln sich an der Oberfläche eines T-Lymphozyten (Wirtszelle). Transmissions-Elektronenmikroskopie, Ultradünnschnitt.\\nWeiter lesen\\n\\n\\n\\nInfektionsschutz\\nAntibiotikaresistenz\\n\\nAusbrüche von Infektionskrankheiten\\n\\nBiologische Gefahren\\n\\nBlut/Transfusionsmedizin\\n\\nEpidemiologisches Bulletin\\n\\nImpfen\\n\\nInfektions\\xadepi\\xadde\\xadmio\\xadlogisches Jahrbuch\\n\\nInfektionsschutzgesetz\\n\\nInternationale Gesundheitsvorschriften\\n\\n\\n\\nInfektions- und Krankenhaushygiene\\n\\nMikrobiologische Unter\\xadsuchungen am RKI von A-Z\\n\\nNRZ und Konsiliarlabore\\n\\nPreparedness and Response\\n\\nPriorisierung von Erregern\\n\\nRKI-Ratgeber\\n\\nSpeziallaboratorien\\n\\nSentinels\\n\\nSurvStat\\n\\n\\n\\nWissenswertes aus dem Bereich\\nGesundheitsamt nach PostleitzahlFAQ Antibiotika\\xadresistenz und Noso\\xadkomiale Infek\\xadtionenEM-Aufnahmen von ErregernMRSAESBL-Bildner\\n\\n\\n\\n\\n\\nForschung\\n\\n\\n\\n\\nKoloniewachstum eines aeroben Sporenbildners (Bacillus sp.) auf Blutagar ohne Hämolyse.\\nWeiter lesen\\n\\n\\n\\nForschung\\nForschungskoordination\\n\\nForschungsagenda des RKI\\n\\nForschungsmethoden\\n\\nForschungsdatenzentrum\\n\\nRKI Panel\\n\\nProjektgruppen\\n\\nNachwuchsgruppen\\n\\n\\n\\nGraduiertenkolleg\\n\\nRKI-Publikationen in Fachzeitschriften und -büchern\\n\\nRobert Koch-Fellow-Programm\\n\\nVersuchstierhaltung\\n\\nUmgang mit Dual-Use-Risiken am RKI\\n\\nGute Wissenschaftliche Praxis\\n\\n\\n\\nWissenswertes aus dem Bereich\\nForschung in den Abteilungen\\n\\n\\n\\n\\n\\nKom\\xadmis\\xadsio\\xadnen\\n\\n\\n\\n\\nZahlreiche wissenschaftliche Kommissionen haben ihre Geschäftsstelle am RKI\\nWeiter lesen\\n\\n\\n\\nKommissionen\\nArbeitskreis Blut\\n\\nArbeitskreis STAKOB\\n\\nBeirat des Zentrums für Krebsregisterdaten\\n\\nExpertenbeirat Influenza\\n\\nGendiagnostik-Kommission\\n\\nHerausgeberbeirat Bundesgesundheitsblatt\\n\\nKommission Antiinfektiva, Resistenz und Therapie\\n\\nKommission für Gesundheitsbericht\\xaderstattung und Gesundheitsmonitoring\\n\\n\\n\\nKommission für Kranken\\xadhaus\\xadhygiene und Infektions\\xadprävention\\n\\nKommission Umweltmedizin und Environmental Public Health\\n\\nNationale Kommission für die Polioeradikation in Deutschland\\n\\nNationale Verifizierungskommission Masern/Röteln\\n\\nStändige Impfkommission\\n\\nWissenschaftlicher Beirat Diabetes Surveillance\\n\\nWissenschaftlicher Beirat für Public Health Mikrobiologie\\n\\nZentrale Ethik-Kommission für Stammzellenforschung\\n\\n\\n\\nWissenswertes aus dem Bereich\\nEmpfehlungen der STIKOEmpfehlungen der KRINKOVoten des Arbeitskreises BlutRichtlinien der GEKORichtlinie der GEKO im AnhörungsverfahrenStammzellregisterStellungnahmen der Kommission Umweltmedizin und Environmental Public Health\\n\\n\\n\\n\\n\\nSer\\xadvice\\n\\n\\n\\n\\n\\nWeiter lesen\\n\\n\\n\\nService\\nPressestelle\\n\\nNewsletter, Soziale Medien und RSS\\n\\nKarriere\\n\\nBerufliche Inklusion\\n\\nAusschreibungen\\n\\nPublikationen\\n\\n\\n\\nBibliothek\\n\\nVeranstaltungen und Termine\\n\\nSpenden an das RKI\\n\\nSozialberatung für Berliner\\nBundesbehörden\\n\\n\\n\\nWissenswertes aus dem Bereich\\nPublikationsserver edoc des RKIPraktikum in der Presse- und Öffent\\xadlich\\xadkeits\\xadarbeit des RKI (2.1.2020)Promotion Diplom Bachelor Master\\n\\n\\n\\n\\n\\n\\n\\n\\n\\n\\n\\n\\n\\n\\n\\nHinweis zum Einsatz von Cookies\\nMit dem Klick auf \"Erlauben\" erklären Sie sich damit einverstanden, dass wir Ihren Aufenthalt auf der Seite anonymisiert aufzeichnen. Die Auswertungen enthalten keine personenbezogenen Daten und werden ausschließlich zur Analyse, Pflege und Verbesserung unseres Internetauftritts eingesetzt. Weitere Informationen zum Datenschutz erhalten Sie über den folgenden Link:\\nDatenschutz\\n\\n\\n\\nOK\\n\\n\\n\\n\\n\\n\\n\\nSie sind hier:\\nStartseiteInfektionskrankheiten A-ZCoronavirus SARS-CoV-2COVID-19: Fallzahlen in Deutschland und weltweit\\n\\n\\n\\nBereichsmenu\\nCoronavirus SARS-CoV-2\\n\\n\\n\\n\\n\\n\\nCOVID-19: Fallzahlen in Deutschland und weltweit\\n\\nFallzahlen in Deutschland\\nStand: 29.8.2020, 00:00 Uhr (online aktualisiert um 11:25 Uhr)\\nDie Differenz zum Vortag bezieht sich auf Fälle, die dem RKI täglich übermittelt werden. Dies beinhaltet Fälle, die am gleichen Tag oder bereits an früheren Tagen an das Gesundheitsamt gemeldet worden sind.\\nBundes\\xadlandElektro\\xadnisch über\\xadmittelte FälleAn\\xadzahlDif\\xadfe\\xadrenz\\nzum \\nVor\\xadtagFälle\\nin den \\nletzten\\n7 Tagen7-Tage-\\nInzi\\xaddenzTodes\\xadfälleBaden-Württem\\xadberg41.574+3261.55314,01.862Bayern56.972+3331.98615,22.638Berlin11.125+11442111,2226Branden\\xadburg3.867+10702,8169Bremen1.980+228812,956Hamburg6.193+261317,1266Hessen15.351+11983813,4530Meck\\xadlenburg-\\nVor\\xadpommern1.004+3140,920Nieder\\xadsachsen16.628+1225026,3660Nord\\xadrhein-West\\xadfalen58.452+2651.7089,51.809Rhein\\xadland-Pfalz8.928+543147,7243Saarland3.126+14494,9174Sachsen5.934+291152,8225Sachsen-Anhalt2.226+8482,265Schles\\xadwig-Holstein4.015+151234,2160Thüringen3.611+19632,9186Gesamt240.986+1.4798.0239,79.289\\n \\nDetaillierte Fallzahlen in Deutschland: Dashboard \\nEine detaillierte Darstellung der übermittelten COVID-19-Fälle in Deutschland nach Landkreis und Bundesland stellt das COVID-19-Dashboard (https://corona.rki.de) bereit.\\nHinweise zum Dashboard:\\nFür die Gesamtzahl pro Bundesland/Landkreis werden die den Gesundheitsämtern nach Infektionsschutzgesetz gemeldeten Fälle verwendet, die dem RKI bis zum jeweiligen Tag um 0 Uhr übermittelt wurden. \\nFür die Darstellung der neu übermittelten Fälle pro Tag wird das Meldedatum verwendet – das Datum, an dem das lokale Gesundheitsamt Kenntnis über den Fall erlangt und ihn elektronisch erfasst hat.\\nZwischen der Meldung durch die Ärzte und Labore an das Gesundheitsamt und der Übermittlung der Fälle an die zuständigen Landesbehörden und das RKI können einige Tage vergehen (Melde- und Übermittlungsverzug). Jeden Tag werden dem RKI neue Fälle übermittelt, die am gleichen Tag oder bereits an früheren Tagen an das Gesundheitsamt gemeldet worden sind. Diese Fälle werden in der Grafik Neue COVID-19-Fälle/Tag dann bei dem jeweiligen Datum ergänzt. \\nDer genaue Infektionszeitpunkt der gemeldeten Fälle kann in aller Regel nicht ermittelt werden. Das Meldedatum an das Gesundheitsamt spiegelt daher am besten den Zeitpunkt der Feststellung der Infektion (Diagnosedatum) und damit das aktuelle Infektionsgeschehen wider. Durch den Meldeverzug sind die Daten die letzten Tage in der Grafik noch unvollständig und füllen sich mit den in den kommenden Tagen nachfolgend übermittelten Daten auf. Aus dem Verlauf der übermittelten Daten allein lässt sich daher kein Trend zu den aktuell erfolgten Neuinfektionen ablesen. \\nFür eine detailliertere Analyse der der COVID-19-Fälle siehe bitte den täglichen Lagebericht des RKI .\\nStand: 26.03.2020\\n\\nnach oben\\n\\n\\n\\nHinweise zur Erfassung und Veröffentlichung von COVID-19-Fallzahlen\\nEs werden die bundesweit einheitlich erfassten und an das Robert Koch-Institut (RKI) übermittelten Daten zu bestätigten COVID-19-Fällen dargestellt. COVID-19-Verdachtsfälle und - Erkrankungen sowie Nachweise von SARS-CoV-2 werden gemäß Infektionsschutzgesetz an das zuständige Gesundheitsamt gemeldet. Die Gesundheitsämter ermitteln ggf. zusätzliche Informationen, bewerten den Fall und leiten die notwendigen Infektionsschutzmaßnahmen ein.\\nDie Daten werden gemäß Infektionsschutzgesetz spätestens am nächsten Arbeitstag vom Gesundheitsamt elektronisch an die zuständige Landesbehörde und von dort an das RKI übermittelt. In der aktuellen Lage übermitteln die meisten Ämter sogar täglich. Am RKI werden sie mittels weitgehend automatisierter Algorithmen validiert.\\nEs werden nur Fälle veröffentlicht, bei denen eine labordiagnostische Bestätigung (unabhängig vom klinischen Bild) vorliegt. Die Daten werden am RKI einmal täglich jeweils um 0:00 Uhr aktualisiert. Durch die Dateneingabe und Datenübermittlung entsteht von dem Zeitpunkt des Bekanntwerdens des Falls bis zur Veröffentlichung durch das RKI ein Zeitverzug, sodass es Abweichungen hinsichtlich der Fallzahlen zu anderen Quellen geben kann.\\n\\nIn der aktuellen Krise werden die Daten des infektionsepidemiologischen Meldewesens zu COVID-19 mit einem möglichst geringen Zeitverzug publiziert. Dies trägt der sehr hohen Dynamik der Lage Rechnung. Allerdings werden hierdurch zuweilen auch Daten vor Qualitätskontrollen und Validierungen veröffentlicht. Durch weitere Ermittlungen der Gesundheitsämter und Plausibilitätsprüfungen kann es zu Nachträgen oder Korrekturen kommen, was vereinzelt zu Abweichungen gegenüber den zuvor berichteten Daten führt. Auch Abweichungen nach unten sind möglich, etwa, wenn ein Fall nach der Ermittlung des Wohnortes einem anderen Gesundheitsamt zugewiesen wird.\\xa0 Dies ist Ausdruck der kontinuierlichen Qualitätssicherung durch die zuständigen Behörden.\\n\\nFür eine detailliertere Analyse der der COVID-19-Fälle siehe bitte den täglichen Lagebericht des RKI, für detaillierte Zahlen nach Landkreis bitte das Dashboard (https://corona.rki.de).\\nStand: 12.05.2020\\n\\nnach oben\\n\\n\\nFallzahlen weltweit\\nDie tagesaktuellen Fallzahlen weltweit sind auf den Internetseiten der Weltgesundheitsorganisation und des Europäischen Zentrums für die Prävention und Kontrolle von Krankheiten (ECDC) abrufbar.\\n\\nWeitere Informationen\\n\\nTägliche Situationsberichte (deutsch und englisch)\\nRKI-Seite zu COVID-19, u.a. mit Hinweisen zu Diagnostik, Hygiene und Infektionskontrolle\\n\\nStand: 29.08.2020nach oben\\n\\n\\n\\n\\n\\n\\n\\nZusatzinformationen\\n\\n\\nInfektionskrankheiten A-Z\\n\\n\\n\\nA\\nB\\nC\\nD\\nE\\nF\\nG\\nH\\nI\\nJ\\nK\\nL\\nM\\nN\\nO\\nP\\nQ\\nR\\nS\\nT\\nU\\nV\\nW\\nX\\nY\\nZ\\nalle\\n\\n\\n\\n\\n\\n\\n\\n\\nGesundheit A-Z\\n\\n\\n\\nA\\nB\\nC\\nD\\nE\\nF\\nG\\nH\\nI\\nJ\\nK\\nL\\nM\\nN\\nO\\nP\\nQ\\nR\\nS\\nT\\nU\\nV\\nW\\nX\\nY\\nZ\\nalle\\n\\n\\n\\n\\n\\n\\n\\n\\nNeu\\n\\n\\n\\nHöhere Letalität und lange Beatmungs\\xaddauer unter\\xadscheiden COVID-19 von schwer verlau\\xadfenden Atem\\xadwegs\\xadinfektionen in Grippe\\xadwellen, Epid Bull 41/2020 online vorab (28.8.2020)\\n\\n\\n\\n\\n\\nMobile Containment Scouts (m/w/d) − Stark gegen Corona – Helfen Sie uns, Infektionsketten zu durchbrechen! Bewerbungsfrist bis zum 02.09.2020\\n\\n\\n\\n\\n\\nStudie CORONA-MONITORING lokal, Bad Feiln\\xadbach: Fact\\xadsheet mit ersten Eck\\xaddaten zu Ergeb\\xadnissen, Metho\\xaddik, Unter\\xadsuchungs\\xadprogramm (25.8.2020)\\n\\n\\n\\n\\n\\nBericht aus dem Gesundheitsamt der Stadt Köln zum Umgang mit COVID-19 an Kölner Schulen, Epid Bull 40/2020 online vorab (25.8.2020)\\n\\n\\n\\n\\n\\nFachgruppe COVRIIN: Welchen Stellenwert hat die Behandlung mit COVID-19-Rekonvaleszenten-Plasma? (24.08.2020)\\n\\n\\n\\n\\n\\n\\n\\n\\nAktualisiert\\n\\n\\n\\nRisikobewertung zu COVID-19 (28.8.2020)\\n\\n\\n\\n\\n\\nAntworten auf häufig gestellte Fragen zu COVID-19 (27.8.2020)\\n\\n\\n\\n\\n\\nInformationen zur Aus\\xadweisung inter\\xadnatio\\xadnaler Risiko\\xadgebiete durch das Auswärtige Amt, BMG und BMI (26.8.2020)\\n\\n\\n\\n\\n\\nCorona-Warn-App: Kennzahlen und FAQ aktualisiert (25.8.2020)\\n\\n\\n\\n\\n\\nSteckbrief zu COVID-19 (21.8.2020) \\n\\n\\n\\n\\n\\nAussteigekarte für Einreise nach Deutschland in weiteren Sprachen verfügbar (21.8.2020)\\n\\n\\n\\n\\n\\nInformation für Reisende in weiteren Sprachen verfügbar (21.8.2020)\\n\\n\\n\\n\\n\\nPrävention und Management in Alten- und Pflege\\xadein\\xadrich\\xadtungen und Ein\\xadrich\\xadtungen für Menschen mit Beein\\xadträch\\xadti\\xadgungen und Behinderungen (18.8.2020)\\n\\n\\n\\n\\n\\n\\n\\n\\nRKI-News\\xadletter In\\xadfek\\xadtions\\xadschutz: Aus\\xadgabe vom 25.8.2020\\n\\n\\n\\n\\n\\n\\n\\n\\nRSS-Feed zu COVID-19 (Coronavirus SARS-CoV-2)\\n\\n\\n\\n\\n\\n\\n\\n\\n\\n\\n\\n\\n\\n\\n\\nIn\\xadsti\\xadtut\\nLeitbild\\n\\nPublic Health\\n\\nLeitung des Instituts\\n\\nOrganisation und Aufgaben\\n\\nNationale Referenzzentren\\n\\nWHO-Kooperationszentren\\n\\nWissenschaftlicher Beirat\\n\\nInternationales\\n\\nMuseum und Kunst\\n\\nAusbau und Zukunft \\n\\nGeschichte\\n\\nGesetzliche Grundlagen\\n\\nMitteilungen zum RKI\\n\\nKorruptionsvorsorge\\n\\nTag des Gesundheitsamtes\\n\\n\\n\\nGesundheitsmonitoring\\nJournal of Health Monitoring\\n\\nDiabetes mellitus\\n\\nKinder- und Jugendgesundheit\\n\\nPsychische Gesundheit\\n\\nSozialer Status\\n\\nÜbergewicht und Adipositas\\n\\nAlle Themenschwerpunkte\\n\\nGesundheitsberichterstattung\\n\\nKrebsregisterdaten\\n\\nStudien und Surveillance\\n\\nSurveydaten nutzen\\n\\nZahl des Monats\\n\\n\\n\\nIn\\xadfek\\xadti\\xadons\\xadschutz\\nAntibiotikaresistenz\\n\\nAusbrüche von Infektionskrankheiten\\n\\nBiologische Gefahren\\n\\nBlut/Transfusionsmedizin\\n\\nEpidemiologisches Bulletin\\n\\nImpfen\\n\\nInfektions\\xadepi\\xadde\\xadmio\\xadlogisches Jahrbuch\\n\\nInfektionsschutzgesetz\\n\\nInternationale Gesundheitsvorschriften\\n\\nInfektions- und Krankenhaushygiene\\n\\nMikrobiologische Unter\\xadsuchungen am RKI von A-Z\\n\\nNRZ und Konsiliarlabore\\n\\nPreparedness and Response\\n\\nPriorisierung von Erregern\\n\\nRKI-Ratgeber\\n\\nSpeziallaboratorien\\n\\nSentinels\\n\\nSurvStat\\n\\n\\n\\nForschung\\nForschungskoordination\\n\\nForschungsagenda des RKI\\n\\nForschungsmethoden\\n\\nForschungsdatenzentrum\\n\\nRKI Panel\\n\\nProjektgruppen\\n\\nNachwuchsgruppen\\n\\nGraduiertenkolleg\\n\\nRKI-Publikationen in Fachzeitschriften und -büchern\\n\\nRobert Koch-Fellow-Programm\\n\\nVersuchstierhaltung\\n\\nUmgang mit Dual-Use-Risiken am RKI\\n\\nGute Wissenschaftliche Praxis\\n\\n\\n\\nKom\\xadmis\\xadsio\\xadnen\\nArbeitskreis Blut\\n\\nArbeitskreis STAKOB\\n\\nBeirat des Zentrums für Krebsregisterdaten \\n\\nExpertenbeirat Influenza\\n\\nGendiagnostik-Kommission\\n\\nHerausgeberbeirat Bundesgesundheitsblatt\\n\\nKommission Antiinfektiva, Resistenz und Therapie\\n\\nKommission für Gesundheitsbericht\\xaderstattung und Gesundheitsmonitoring \\n\\nKommission für Kranken\\xadhaus\\xadhygiene und Infektions\\xadprävention\\n\\nKommission Umweltmedizin und Environmental Public Health\\n\\nNationale Kommission für die Polioeradikation in Deutschland\\n\\nNationale Verifizierungskommission Masern/Röteln\\n\\nStändige Impfkommission\\n\\nWissenschaftlicher Beirat Diabetes Surveillance\\n\\nWissenschaftlicher Beirat für Public Health Mikrobiologie\\n\\nZentrale Ethik-Kommission für Stammzellenforschung\\n\\n\\n\\nSer\\xadvice\\nPressestelle\\n\\nNewsletter, Soziale Medien und RSS\\n\\nKarriere\\n\\nBerufliche Inklusion\\n\\nAusschreibungen\\n\\nPublikationen\\n\\nBibliothek\\n\\nVeranstaltungen und Termine\\n\\nSpenden an das RKI\\n\\nSozialberatung für Berliner \\nBundesbehörden\\n\\n\\n\\n\\nDas Robert Koch-Institut ist ein Bundesinstitut im Geschäftsbereich des Bundesministeriums für Gesundheit\\n\\n\\n© Robert Koch-Institut\\nAlle Rechte vorbehalten, soweit nicht ausdrücklich anders vermerkt.\\n\\n\\n\\n\\n\\n\\nnach oben\\n\\n\\n\\nNavigation\\n\\nStartseite\\nInfektionskrankheiten A-Z\\nCoronavirus SARS-CoV-2\\n\\n\\nServicemenü\\nKon\\xadtaktIn\\xadhaltHil\\xadfeIm\\xadpres\\xads\\xadumDa\\xadten\\xadschut\\xadz\\xader\\xadklä\\xadrungRSSEnglish\\n\\n\\n\\n\\n'"
      ]
     },
     "execution_count": 29,
     "metadata": {},
     "output_type": "execute_result"
    }
   ],
   "source": [
    "soup.get_text()"
   ]
  },
  {
   "cell_type": "code",
   "execution_count": 30,
   "metadata": {},
   "outputs": [],
   "source": [
    "html_table = soup.find ('table')"
   ]
  },
  {
   "cell_type": "code",
   "execution_count": 31,
   "metadata": {},
   "outputs": [
    {
     "data": {
      "text/plain": [
       "[<tr><th colspan=\"1\" rowspan=\"1\">Bundes­land</th><th class=\"center\" colspan=\"5\" rowspan=\"1\">Elektro­nisch über­mittelte Fälle</th></tr>,\n",
       " <tr><th colspan=\"1\" rowspan=\"1\"></th><th class=\"center\" colspan=\"1\" rowspan=\"1\">An­zahl</th><th class=\"center\" colspan=\"1\" rowspan=\"1\">Dif­fe­renz<br/>\n",
       " zum <br/>\n",
       " Vor­tag</th><th class=\"center\" colspan=\"1\" rowspan=\"1\">Fälle<br/>\n",
       " in den <br/>\n",
       " letzten<br/>\n",
       " 7 Tagen</th><th class=\"right\" colspan=\"1\" rowspan=\"1\">7-Tage-<br/>\n",
       " Inzi­denz</th><th class=\"center\" colspan=\"1\" rowspan=\"1\">Todes­fälle</th></tr>,\n",
       " <tr class=\"even\"><td colspan=\"1\" rowspan=\"1\">Baden-Württem­berg</td><td class=\"right\" colspan=\"1\" rowspan=\"1\">41.574</td><td class=\"right\" colspan=\"1\" rowspan=\"1\">+326</td><td class=\"right\" colspan=\"1\" rowspan=\"1\">1.553</td><td class=\"right\" colspan=\"1\" rowspan=\"1\">14,0</td><td class=\"right\" colspan=\"1\" rowspan=\"1\">1.862</td></tr>,\n",
       " <tr><td colspan=\"1\" rowspan=\"1\">Bayern</td><td class=\"right\" colspan=\"1\" rowspan=\"1\">56.972</td><td class=\"right\" colspan=\"1\" rowspan=\"1\">+333</td><td class=\"right\" colspan=\"1\" rowspan=\"1\">1.986</td><td class=\"right\" colspan=\"1\" rowspan=\"1\">15,2</td><td class=\"right\" colspan=\"1\" rowspan=\"1\">2.638</td></tr>,\n",
       " <tr class=\"even\"><td colspan=\"1\" rowspan=\"1\">Berlin</td><td class=\"right\" colspan=\"1\" rowspan=\"1\">11.125</td><td class=\"right\" colspan=\"1\" rowspan=\"1\">+114</td><td class=\"right\" colspan=\"1\" rowspan=\"1\">421</td><td class=\"right\" colspan=\"1\" rowspan=\"1\">11,2</td><td class=\"right\" colspan=\"1\" rowspan=\"1\">226</td></tr>,\n",
       " <tr><td colspan=\"1\" rowspan=\"1\">Branden­burg</td><td class=\"right\" colspan=\"1\" rowspan=\"1\">3.867</td><td class=\"right\" colspan=\"1\" rowspan=\"1\">+10</td><td class=\"right\" colspan=\"1\" rowspan=\"1\">70</td><td class=\"right\" colspan=\"1\" rowspan=\"1\">2,8</td><td class=\"right\" colspan=\"1\" rowspan=\"1\">169</td></tr>,\n",
       " <tr class=\"even\"><td colspan=\"1\" rowspan=\"1\">Bremen</td><td class=\"right\" colspan=\"1\" rowspan=\"1\">1.980</td><td class=\"right\" colspan=\"1\" rowspan=\"1\">+22</td><td class=\"right\" colspan=\"1\" rowspan=\"1\">88</td><td class=\"right\" colspan=\"1\" rowspan=\"1\">12,9</td><td class=\"right\" colspan=\"1\" rowspan=\"1\">56</td></tr>,\n",
       " <tr><td colspan=\"1\" rowspan=\"1\">Hamburg</td><td class=\"right\" colspan=\"1\" rowspan=\"1\">6.193</td><td class=\"right\" colspan=\"1\" rowspan=\"1\">+26</td><td class=\"right\" colspan=\"1\" rowspan=\"1\">131</td><td class=\"right\" colspan=\"1\" rowspan=\"1\">7,1</td><td class=\"right\" colspan=\"1\" rowspan=\"1\">266</td></tr>,\n",
       " <tr class=\"even\"><td colspan=\"1\" rowspan=\"1\">Hessen</td><td class=\"right\" colspan=\"1\" rowspan=\"1\">15.351</td><td class=\"right\" colspan=\"1\" rowspan=\"1\">+119</td><td class=\"right\" colspan=\"1\" rowspan=\"1\">838</td><td class=\"right\" colspan=\"1\" rowspan=\"1\">13,4</td><td class=\"right\" colspan=\"1\" rowspan=\"1\">530</td></tr>,\n",
       " <tr><td colspan=\"1\" rowspan=\"1\">Meck­lenburg-<br/>\n",
       " Vor­pommern</td><td class=\"right\" colspan=\"1\" rowspan=\"1\">1.004</td><td class=\"right\" colspan=\"1\" rowspan=\"1\">+3</td><td class=\"right\" colspan=\"1\" rowspan=\"1\">14</td><td class=\"right\" colspan=\"1\" rowspan=\"1\">0,9</td><td class=\"right\" colspan=\"1\" rowspan=\"1\">20</td></tr>,\n",
       " <tr class=\"even\"><td colspan=\"1\" rowspan=\"1\">Nieder­sachsen</td><td class=\"right\" colspan=\"1\" rowspan=\"1\">16.628</td><td class=\"right\" colspan=\"1\" rowspan=\"1\">+122</td><td class=\"right\" colspan=\"1\" rowspan=\"1\">502</td><td class=\"right\" colspan=\"1\" rowspan=\"1\">6,3</td><td class=\"right\" colspan=\"1\" rowspan=\"1\">660</td></tr>,\n",
       " <tr><td colspan=\"1\" rowspan=\"1\">Nord­rhein-West­falen</td><td class=\"right\" colspan=\"1\" rowspan=\"1\">58.452</td><td class=\"right\" colspan=\"1\" rowspan=\"1\">+265</td><td class=\"right\" colspan=\"1\" rowspan=\"1\">1.708</td><td class=\"right\" colspan=\"1\" rowspan=\"1\">9,5</td><td class=\"right\" colspan=\"1\" rowspan=\"1\">1.809</td></tr>,\n",
       " <tr class=\"even\"><td colspan=\"1\" rowspan=\"1\">Rhein­land-Pfalz</td><td class=\"right\" colspan=\"1\" rowspan=\"1\">8.928</td><td class=\"right\" colspan=\"1\" rowspan=\"1\">+54</td><td class=\"right\" colspan=\"1\" rowspan=\"1\">314</td><td class=\"right\" colspan=\"1\" rowspan=\"1\">7,7</td><td class=\"right\" colspan=\"1\" rowspan=\"1\">243</td></tr>,\n",
       " <tr><td colspan=\"1\" rowspan=\"1\">Saarland</td><td class=\"right\" colspan=\"1\" rowspan=\"1\">3.126</td><td class=\"right\" colspan=\"1\" rowspan=\"1\">+14</td><td class=\"right\" colspan=\"1\" rowspan=\"1\">49</td><td class=\"right\" colspan=\"1\" rowspan=\"1\">4,9</td><td class=\"right\" colspan=\"1\" rowspan=\"1\">174</td></tr>,\n",
       " <tr class=\"even\"><td colspan=\"1\" rowspan=\"1\">Sachsen</td><td class=\"right\" colspan=\"1\" rowspan=\"1\">5.934</td><td class=\"right\" colspan=\"1\" rowspan=\"1\">+29</td><td class=\"right\" colspan=\"1\" rowspan=\"1\">115</td><td class=\"right\" colspan=\"1\" rowspan=\"1\">2,8</td><td class=\"right\" colspan=\"1\" rowspan=\"1\">225</td></tr>,\n",
       " <tr><td colspan=\"1\" rowspan=\"1\">Sachsen-Anhalt</td><td class=\"right\" colspan=\"1\" rowspan=\"1\">2.226</td><td class=\"right\" colspan=\"1\" rowspan=\"1\">+8</td><td class=\"right\" colspan=\"1\" rowspan=\"1\">48</td><td class=\"right\" colspan=\"1\" rowspan=\"1\">2,2</td><td class=\"right\" colspan=\"1\" rowspan=\"1\">65</td></tr>,\n",
       " <tr class=\"even\"><td colspan=\"1\" rowspan=\"1\">Schles­wig-Holstein</td><td class=\"right\" colspan=\"1\" rowspan=\"1\">4.015</td><td class=\"right\" colspan=\"1\" rowspan=\"1\">+15</td><td class=\"right\" colspan=\"1\" rowspan=\"1\">123</td><td class=\"right\" colspan=\"1\" rowspan=\"1\">4,2</td><td class=\"right\" colspan=\"1\" rowspan=\"1\">160</td></tr>,\n",
       " <tr><td colspan=\"1\" rowspan=\"1\">Thüringen</td><td class=\"right\" colspan=\"1\" rowspan=\"1\">3.611</td><td class=\"right\" colspan=\"1\" rowspan=\"1\">+19</td><td class=\"right\" colspan=\"1\" rowspan=\"1\">63</td><td class=\"right\" colspan=\"1\" rowspan=\"1\">2,9</td><td class=\"right\" colspan=\"1\" rowspan=\"1\">186</td></tr>,\n",
       " <tr class=\"even\"><td colspan=\"1\" rowspan=\"1\"><strong>Gesamt</strong></td><td class=\"right\" colspan=\"1\" rowspan=\"1\"><strong>240.986</strong></td><td class=\"right\" colspan=\"1\" rowspan=\"1\"><strong>+1.479</strong></td><td class=\"right\" colspan=\"1\" rowspan=\"1\"><strong>8.023</strong></td><td class=\"right\" colspan=\"1\" rowspan=\"1\"><strong>9,7</strong></td><td class=\"right\" colspan=\"1\" rowspan=\"1\"><strong>9.289</strong></td></tr>]"
      ]
     },
     "execution_count": 31,
     "metadata": {},
     "output_type": "execute_result"
    }
   ],
   "source": [
    "html_table.find_all('tr')"
   ]
  },
  {
   "cell_type": "code",
   "execution_count": 32,
   "metadata": {},
   "outputs": [],
   "source": [
    "all_rows=html_table.find_all('tr')"
   ]
  },
  {
   "cell_type": "code",
   "execution_count": 33,
   "metadata": {},
   "outputs": [],
   "source": [
    "final_data_list=[]"
   ]
  },
  {
   "cell_type": "code",
   "execution_count": 34,
   "metadata": {},
   "outputs": [],
   "source": [
    "for pos, rows in enumerate(all_rows):\n",
    "    col_list = [each_col.get_text(strip = True) for each_col in rows.find_all('td')]\n",
    "    final_data_list.append(col_list)"
   ]
  },
  {
   "cell_type": "code",
   "execution_count": 35,
   "metadata": {},
   "outputs": [
    {
     "data": {
      "text/html": [
       "<div>\n",
       "<style scoped>\n",
       "    .dataframe tbody tr th:only-of-type {\n",
       "        vertical-align: middle;\n",
       "    }\n",
       "\n",
       "    .dataframe tbody tr th {\n",
       "        vertical-align: top;\n",
       "    }\n",
       "\n",
       "    .dataframe thead th {\n",
       "        text-align: right;\n",
       "    }\n",
       "</style>\n",
       "<table border=\"1\" class=\"dataframe\">\n",
       "  <thead>\n",
       "    <tr style=\"text-align: right;\">\n",
       "      <th></th>\n",
       "      <th>state</th>\n",
       "      <th>1</th>\n",
       "      <th>2</th>\n",
       "      <th>3</th>\n",
       "      <th>4</th>\n",
       "      <th>5</th>\n",
       "    </tr>\n",
       "  </thead>\n",
       "  <tbody>\n",
       "    <tr>\n",
       "      <td>2</td>\n",
       "      <td>Baden-Württem­berg</td>\n",
       "      <td>41.574</td>\n",
       "      <td>+326</td>\n",
       "      <td>1.553</td>\n",
       "      <td>14,0</td>\n",
       "      <td>1.862</td>\n",
       "    </tr>\n",
       "    <tr>\n",
       "      <td>3</td>\n",
       "      <td>Bayern</td>\n",
       "      <td>56.972</td>\n",
       "      <td>+333</td>\n",
       "      <td>1.986</td>\n",
       "      <td>15,2</td>\n",
       "      <td>2.638</td>\n",
       "    </tr>\n",
       "    <tr>\n",
       "      <td>4</td>\n",
       "      <td>Berlin</td>\n",
       "      <td>11.125</td>\n",
       "      <td>+114</td>\n",
       "      <td>421</td>\n",
       "      <td>11,2</td>\n",
       "      <td>226</td>\n",
       "    </tr>\n",
       "    <tr>\n",
       "      <td>5</td>\n",
       "      <td>Branden­burg</td>\n",
       "      <td>3.867</td>\n",
       "      <td>+10</td>\n",
       "      <td>70</td>\n",
       "      <td>2,8</td>\n",
       "      <td>169</td>\n",
       "    </tr>\n",
       "    <tr>\n",
       "      <td>6</td>\n",
       "      <td>Bremen</td>\n",
       "      <td>1.980</td>\n",
       "      <td>+22</td>\n",
       "      <td>88</td>\n",
       "      <td>12,9</td>\n",
       "      <td>56</td>\n",
       "    </tr>\n",
       "    <tr>\n",
       "      <td>7</td>\n",
       "      <td>Hamburg</td>\n",
       "      <td>6.193</td>\n",
       "      <td>+26</td>\n",
       "      <td>131</td>\n",
       "      <td>7,1</td>\n",
       "      <td>266</td>\n",
       "    </tr>\n",
       "    <tr>\n",
       "      <td>8</td>\n",
       "      <td>Hessen</td>\n",
       "      <td>15.351</td>\n",
       "      <td>+119</td>\n",
       "      <td>838</td>\n",
       "      <td>13,4</td>\n",
       "      <td>530</td>\n",
       "    </tr>\n",
       "    <tr>\n",
       "      <td>9</td>\n",
       "      <td>Meck­lenburg-Vor­pommern</td>\n",
       "      <td>1.004</td>\n",
       "      <td>+3</td>\n",
       "      <td>14</td>\n",
       "      <td>0,9</td>\n",
       "      <td>20</td>\n",
       "    </tr>\n",
       "    <tr>\n",
       "      <td>10</td>\n",
       "      <td>Nieder­sachsen</td>\n",
       "      <td>16.628</td>\n",
       "      <td>+122</td>\n",
       "      <td>502</td>\n",
       "      <td>6,3</td>\n",
       "      <td>660</td>\n",
       "    </tr>\n",
       "    <tr>\n",
       "      <td>11</td>\n",
       "      <td>Nord­rhein-West­falen</td>\n",
       "      <td>58.452</td>\n",
       "      <td>+265</td>\n",
       "      <td>1.708</td>\n",
       "      <td>9,5</td>\n",
       "      <td>1.809</td>\n",
       "    </tr>\n",
       "    <tr>\n",
       "      <td>12</td>\n",
       "      <td>Rhein­land-Pfalz</td>\n",
       "      <td>8.928</td>\n",
       "      <td>+54</td>\n",
       "      <td>314</td>\n",
       "      <td>7,7</td>\n",
       "      <td>243</td>\n",
       "    </tr>\n",
       "    <tr>\n",
       "      <td>13</td>\n",
       "      <td>Saarland</td>\n",
       "      <td>3.126</td>\n",
       "      <td>+14</td>\n",
       "      <td>49</td>\n",
       "      <td>4,9</td>\n",
       "      <td>174</td>\n",
       "    </tr>\n",
       "    <tr>\n",
       "      <td>14</td>\n",
       "      <td>Sachsen</td>\n",
       "      <td>5.934</td>\n",
       "      <td>+29</td>\n",
       "      <td>115</td>\n",
       "      <td>2,8</td>\n",
       "      <td>225</td>\n",
       "    </tr>\n",
       "    <tr>\n",
       "      <td>15</td>\n",
       "      <td>Sachsen-Anhalt</td>\n",
       "      <td>2.226</td>\n",
       "      <td>+8</td>\n",
       "      <td>48</td>\n",
       "      <td>2,2</td>\n",
       "      <td>65</td>\n",
       "    </tr>\n",
       "    <tr>\n",
       "      <td>16</td>\n",
       "      <td>Schles­wig-Holstein</td>\n",
       "      <td>4.015</td>\n",
       "      <td>+15</td>\n",
       "      <td>123</td>\n",
       "      <td>4,2</td>\n",
       "      <td>160</td>\n",
       "    </tr>\n",
       "    <tr>\n",
       "      <td>17</td>\n",
       "      <td>Thüringen</td>\n",
       "      <td>3.611</td>\n",
       "      <td>+19</td>\n",
       "      <td>63</td>\n",
       "      <td>2,9</td>\n",
       "      <td>186</td>\n",
       "    </tr>\n",
       "    <tr>\n",
       "      <td>18</td>\n",
       "      <td>Gesamt</td>\n",
       "      <td>240.986</td>\n",
       "      <td>+1.479</td>\n",
       "      <td>8.023</td>\n",
       "      <td>9,7</td>\n",
       "      <td>9.289</td>\n",
       "    </tr>\n",
       "  </tbody>\n",
       "</table>\n",
       "</div>"
      ],
      "text/plain": [
       "                       state        1       2      3     4      5\n",
       "2         Baden-Württem­berg   41.574    +326  1.553  14,0  1.862\n",
       "3                     Bayern   56.972    +333  1.986  15,2  2.638\n",
       "4                     Berlin   11.125    +114    421  11,2    226\n",
       "5               Branden­burg    3.867     +10     70   2,8    169\n",
       "6                     Bremen    1.980     +22     88  12,9     56\n",
       "7                    Hamburg    6.193     +26    131   7,1    266\n",
       "8                     Hessen   15.351    +119    838  13,4    530\n",
       "9   Meck­lenburg-Vor­pommern    1.004      +3     14   0,9     20\n",
       "10            Nieder­sachsen   16.628    +122    502   6,3    660\n",
       "11     Nord­rhein-West­falen   58.452    +265  1.708   9,5  1.809\n",
       "12          Rhein­land-Pfalz    8.928     +54    314   7,7    243\n",
       "13                  Saarland    3.126     +14     49   4,9    174\n",
       "14                   Sachsen    5.934     +29    115   2,8    225\n",
       "15            Sachsen-Anhalt    2.226      +8     48   2,2     65\n",
       "16       Schles­wig-Holstein    4.015     +15    123   4,2    160\n",
       "17                 Thüringen    3.611     +19     63   2,9    186\n",
       "18                    Gesamt  240.986  +1.479  8.023   9,7  9.289"
      ]
     },
     "execution_count": 35,
     "metadata": {},
     "output_type": "execute_result"
    }
   ],
   "source": [
    "pd.DataFrame(final_data_list).dropna().rename(columns={0:'state'})"
   ]
  },
  {
   "cell_type": "code",
   "execution_count": null,
   "metadata": {},
   "outputs": [],
   "source": [
    "pip install plotly==4.9.0"
   ]
  },
  {
   "cell_type": "code",
   "execution_count": null,
   "metadata": {},
   "outputs": [],
   "source": []
  },
  {
   "cell_type": "code",
   "execution_count": null,
   "metadata": {},
   "outputs": [],
   "source": []
  }
 ],
 "metadata": {
  "kernelspec": {
   "display_name": "Python 3",
   "language": "python",
   "name": "python3"
  },
  "language_info": {
   "codemirror_mode": {
    "name": "ipython",
    "version": 3
   },
   "file_extension": ".py",
   "mimetype": "text/x-python",
   "name": "python",
   "nbconvert_exporter": "python",
   "pygments_lexer": "ipython3",
   "version": "3.7.4"
  }
 },
 "nbformat": 4,
 "nbformat_minor": 2
}
